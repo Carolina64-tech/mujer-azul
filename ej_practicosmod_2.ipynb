{
  "nbformat": 4,
  "nbformat_minor": 0,
  "metadata": {
    "colab": {
      "provenance": [],
      "toc_visible": true,
      "authorship_tag": "ABX9TyNQ9UXNA5g1W6ks32iI4S1a",
      "include_colab_link": true
    },
    "kernelspec": {
      "name": "python3",
      "display_name": "Python 3"
    },
    "language_info": {
      "name": "python"
    }
  },
  "cells": [
    {
      "cell_type": "markdown",
      "metadata": {
        "id": "view-in-github",
        "colab_type": "text"
      },
      "source": [
        "<a href=\"https://colab.research.google.com/github/Carolina64-tech/mujer-azul/blob/main/ej_practicosmod_2.ipynb\" target=\"_parent\"><img src=\"https://colab.research.google.com/assets/colab-badge.svg\" alt=\"Open In Colab\"/></a>"
      ]
    },
    {
      "cell_type": "code",
      "execution_count": 25,
      "metadata": {
        "colab": {
          "base_uri": "https://localhost:8080/"
        },
        "id": "jzZqa4tzm8Ln",
        "outputId": "661831e4-3e6c-486a-b15e-e21329f33b66"
      },
      "outputs": [
        {
          "output_type": "stream",
          "name": "stdout",
          "text": [
            "Ingrese su edad:25\n",
            "Eres mayor de edad\n"
          ]
        }
      ],
      "source": [
        "\n",
        "edad = int(input(\"Ingrese su edad:\"))\n",
        "if edad < 18:\n",
        "   print(\"Eres menor de edad\")\n",
        "else:\n",
        "   print(\"Eres mayor de edad\")\n",
        "\n"
      ]
    },
    {
      "cell_type": "markdown",
      "source": [
        "# Ejercicio 2\n"
      ],
      "metadata": {
        "id": "4iwu-XMvrrVt"
      }
    },
    {
      "cell_type": "code",
      "source": [
        "nro_1=int(input(\"Ingrese el dividendo \"))\n",
        "nro_2=int(input(\"ingrese el divisor \"))\n",
        "if nro_2==0:\n",
        "  print(\"Error, no es posible dividir por 0\")\n",
        "else:\n",
        "    print(nro_1/nro_2)\n",
        "\n"
      ],
      "metadata": {
        "colab": {
          "base_uri": "https://localhost:8080/"
        },
        "id": "oq2vgFXydeJG",
        "outputId": "3fe2f74a-4e31-4331-ab71-1b9d06fdd670"
      },
      "execution_count": 3,
      "outputs": [
        {
          "output_type": "stream",
          "name": "stdout",
          "text": [
            "Ingrese el dividendo 34\n",
            "ingrese el divisor 10\n",
            "3.4\n"
          ]
        }
      ]
    },
    {
      "cell_type": "markdown",
      "source": [
        "# Nueva sección"
      ],
      "metadata": {
        "id": "fZn6xzEReok8"
      }
    },
    {
      "cell_type": "markdown",
      "source": [
        "ejercicio 3\n"
      ],
      "metadata": {
        "id": "neFkAepggIIE"
      }
    },
    {
      "cell_type": "code",
      "source": [],
      "metadata": {
        "id": "7OdgVmU5gB7I"
      },
      "execution_count": null,
      "outputs": []
    },
    {
      "cell_type": "code",
      "source": [
        "nro=int(input(\"Ingrese un número enter: \"))\n",
        "if nro%2==0:\n",
        "  print (\"El número \"+str(nro)+\" es par.\")\n",
        "else:\n",
        "  print(\"El número \"+str(nro)+\" es impar.\")\n",
        "\n"
      ],
      "metadata": {
        "colab": {
          "base_uri": "https://localhost:8080/"
        },
        "id": "BE8vLIGVepQv",
        "outputId": "b11d4dd8-5cb2-45c9-a3ea-bbbbb8046d51"
      },
      "execution_count": 7,
      "outputs": [
        {
          "output_type": "stream",
          "name": "stdout",
          "text": [
            "Ingrese un número enter: 3\n",
            "El número 3 es impar.\n"
          ]
        }
      ]
    },
    {
      "cell_type": "markdown",
      "source": [
        "# Ejercicio 4\n"
      ],
      "metadata": {
        "id": "d9gkWb_vgUw5"
      }
    },
    {
      "cell_type": "code",
      "source": [
        "nro_1=int(input(\"Ingrese un número: \"))\n",
        "nro_2=int (input(\"Ingrese otro número: \"))\n",
        "if nro_1 < nro_2:\n",
        "     print(\"El primero es menor\")\n",
        "elif  nro_2 < nro_1:\n",
        " print(\"El segundo es menor.\")\n",
        "else:\n",
        "     print(\"Los números son iguales\")\n"
      ],
      "metadata": {
        "colab": {
          "base_uri": "https://localhost:8080/"
        },
        "id": "UemMayA5gzB6",
        "outputId": "585752aa-07e2-4fd0-cdb1-82e3e316811f"
      },
      "execution_count": 42,
      "outputs": [
        {
          "output_type": "stream",
          "name": "stdout",
          "text": [
            "Ingrese un número: 5\n",
            "Ingrese otro número: 5\n",
            "Los números son iguales\n"
          ]
        }
      ]
    },
    {
      "cell_type": "markdown",
      "source": [],
      "metadata": {
        "id": "-_9_Qms6g5wM"
      }
    }
  ]
}